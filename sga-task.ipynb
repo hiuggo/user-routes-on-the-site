{
 "cells": [
  {
   "cell_type": "markdown",
   "metadata": {
    "tags": []
   },
   "source": [
    "# User routes on the site\n",
    "## Description\n",
    "**Clickstream** is a sequence of user actions on a website. It allows you to understand how users interact with the site. In this task, you need to find the most frequent custom routes.\n",
    "\n",
    "## Input data\n",
    "Input data is а table with clickstream data in file `hdfs:/data/clickstream.csv`.\n",
    "\n",
    "### Table structure\n",
    "* `user_id (int)` - Unique user identifier.\n",
    "* `session_id (int)` - Unique identifier for the user session. The user's session lasts until the identifier changes.\n",
    "* `event_type (string)` - Event type from the list:\n",
    "    * **page** - visit to the page\n",
    "    * **event** - any action on the page\n",
    "    * <b>&lt;custom&gt;</b> - string with any other type\n",
    "* `event_page (string)` - Page on the site.\n",
    "* `timestamp (int)` - Unix-timestamp of action.\n",
    "\n",
    "### Browser errors\n",
    "Errors can sometimes occur in the user's browser - after such an error appears, we can no longer trust the data of this session and all the following lines after the error or at the same time with it are considered corrupted and **should not be counted** in statistics.\n",
    "\n",
    "When an error occurs on the page, a random string containing the word **error** will be written to the `event_type` field.\n",
    "\n",
    "### Sample of user session\n",
    "<pre>\n",
    "+-------+----------+------------+----------+----------+\n",
    "|user_id|session_id|  event_type|event_page| timestamp|\n",
    "+-------+----------+------------+----------+----------+\n",
    "|    562|       507|        page|      main|1620494781|\n",
    "|    562|       507|       event|      main|1620494788|\n",
    "|    562|       507|       event|      main|1620494798|\n",
    "|    562|       507|        page|    family|1620494820|\n",
    "|    562|       507|       event|    family|1620494828|\n",
    "|    562|       507|        page|      main|1620494848|\n",
    "|    562|       507|wNaxLlerrorU|      main|1620494865|\n",
    "|    562|       507|       event|      main|1620494873|\n",
    "|    562|       507|        page|      news|1620494875|\n",
    "|    562|       507|        page|   tariffs|1620494876|\n",
    "|    562|       507|       event|   tariffs|1620494884|\n",
    "|    562|       514|        page|      main|1620728918|\n",
    "|    562|       514|       event|      main|1620729174|\n",
    "|    562|       514|        page|   archive|1620729674|\n",
    "|    562|       514|        page|     bonus|1620729797|\n",
    "|    562|       514|        page|   tariffs|1620731090|\n",
    "|    562|       514|       event|   tariffs|1620731187|\n",
    "+-------+----------+------------+----------+----------+\n",
    "</pre>\n",
    "\n",
    "#### Correct user routes for a given user:\n",
    "* **Session 507**: main-family-main\n",
    "* **Session 514**: main-archive-bonus-tariffs\n",
    "\n",
    "Route elements are ordered by the time they appear in the clickstream, from earliest to latest.\n",
    "\n",
    "The route must be accounted for completely before the end of the session or an error in the session.\n",
    "\n",
    "## Task\n",
    "You need to use the Spark SQL, Spark RDD and Spark DF interfaces to create a solution file, the lines of which contain **the 30 most frequent user routes** on the site.\n",
    "\n",
    "Each line of the file should contain the `route` and `count` values **separated by tabs**, where:\n",
    "* `route` - route on the site, consisting of pages separated by \"-\".\n",
    "* `count` - the number of user sessions in which this route was.\n",
    "\n",
    "The lines must be **ordered in descending order** of the `count` field.\n",
    "\n",
    "## Criteria\n",
    "You can get maximum of 3.5 points (final grade) for this assignment, depedning on the number of interface you manage to leverage. The criteria are as follows:\n",
    "\n",
    "* 0.5 points – Spark SQL solution with 1 query\n",
    "* 0.5 points – Spark SQL solution with <=2 queries\n",
    "* 0.5 points – Spark RDD solution\n",
    "* 0.5 points – Spark DF solution\n",
    "* 0.5 points – your solution algorithm is relatively optimized, i.e.: no O^2 or O^3 complexities; appropriate object usage; no data leaks etc. This is evaluated by staff.\n",
    "* 1 point – 1 on 1 screening session. During this session staff member can ask you questions regarding your solution logic, framework usage, questionable parts of your code etc. If your code is clean enough, the staff member can just ask you to solve a theoretical problem connected to Spark.\n"
   ]
  },
  {
   "cell_type": "code",
   "execution_count": null,
   "metadata": {},
   "outputs": [],
   "source": []
  },
  {
   "cell_type": "markdown",
   "metadata": {
    "tags": []
   },
   "source": [
    "## Connect to Spark"
   ]
  },
  {
   "cell_type": "code",
   "execution_count": 1,
   "metadata": {
    "tags": []
   },
   "outputs": [
    {
     "name": "stderr",
     "output_type": "stream",
     "text": [
      "Setting default log level to \"WARN\".\n",
      "To adjust logging level use sc.setLogLevel(newLevel). For SparkR, use setLogLevel(newLevel).\n",
      "2024-04-24 14:59:58,989 WARN util.Utils: Service 'SparkUI' could not bind on port 4040. Attempting port 4041.\n"
     ]
    },
    {
     "data": {
      "text/html": [
       "\n",
       "        <div>\n",
       "            <p><b>SparkContext</b></p>\n",
       "\n",
       "            <p><a href=\"http://f1fa3984c3ba:4041\">Spark UI</a></p>\n",
       "\n",
       "            <dl>\n",
       "              <dt>Version</dt>\n",
       "                <dd><code>v3.2.4</code></dd>\n",
       "              <dt>Master</dt>\n",
       "                <dd><code>local</code></dd>\n",
       "              <dt>AppName</dt>\n",
       "                <dd><code>Clickstream Analysis</code></dd>\n",
       "            </dl>\n",
       "        </div>\n",
       "        "
      ],
      "text/plain": [
       "<SparkContext master=local appName=Clickstream Analysis>"
      ]
     },
     "execution_count": 1,
     "metadata": {},
     "output_type": "execute_result"
    }
   ],
   "source": [
    "import findspark\n",
    "findspark.init()\n",
    "\n",
    "from pyspark.sql.window import Window\n",
    "from pyspark.sql.context import SQLContext\n",
    "from pyspark import SparkConf, SparkContext\n",
    "from pyspark.sql import SparkSession, functions as F\n",
    "\n",
    "import json\n",
    "from itertools import groupby\n",
    "\n",
    "# Set configuration\n",
    "conf = SparkConf().setMaster('local').setAppName('Clickstream Analysis')\n",
    "\n",
    "# Creating classes to interact with Spark\n",
    "sc = SparkContext(conf=conf)\n",
    "se = SparkSession(sc)\n",
    "sql = SQLContext(sc)\n",
    "\n",
    "sc"
   ]
  },
  {
   "cell_type": "code",
   "execution_count": 2,
   "metadata": {
    "tags": []
   },
   "outputs": [
    {
     "name": "stderr",
     "output_type": "stream",
     "text": [
      "                                                                                \r"
     ]
    },
    {
     "name": "stdout",
     "output_type": "stream",
     "text": [
      "+-------+----------+------------+----------+----------+\n",
      "|user_id|session_id|  event_type|event_page| timestamp|\n",
      "+-------+----------+------------+----------+----------+\n",
      "|    562|       507|        page|      main|1695584127|\n",
      "|    562|       507|       event|      main|1695584134|\n",
      "|    562|       507|       event|      main|1695584144|\n",
      "|    562|       507|       event|      main|1695584147|\n",
      "|    562|       507|wNaxLlerrorU|      main|1695584154|\n",
      "+-------+----------+------------+----------+----------+\n",
      "only showing top 5 rows\n",
      "\n"
     ]
    }
   ],
   "source": [
    "# Read clickstream.csv\n",
    "df = sql.read.csv('hdfs:/data/clickstream.csv', sep='\\t', header=True, inferSchema=True)\n",
    "df.createOrReplaceTempView('clickstream')\n",
    "\n",
    "# Show first 5 rows\n",
    "df.show(5)"
   ]
  },
  {
   "cell_type": "code",
   "execution_count": null,
   "metadata": {
    "tags": []
   },
   "outputs": [],
   "source": []
  },
  {
   "cell_type": "markdown",
   "metadata": {
    "tags": []
   },
   "source": [
    "## Spark SQL solution"
   ]
  },
  {
   "cell_type": "code",
   "execution_count": 3,
   "metadata": {
    "tags": []
   },
   "outputs": [
    {
     "name": "stderr",
     "output_type": "stream",
     "text": [
      "[Stage 8:===============================================>           (4 + 1) / 5]\r"
     ]
    },
    {
     "name": "stdout",
     "output_type": "stream",
     "text": [
      "+---------------------+-----+\n",
      "|route                |count|\n",
      "+---------------------+-----+\n",
      "|main                 |8184 |\n",
      "|main-archive         |1113 |\n",
      "|main-rabota          |1047 |\n",
      "|main-internet        |897  |\n",
      "|main-bonus           |870  |\n",
      "|main-news            |769  |\n",
      "|main-tariffs         |677  |\n",
      "|main-online          |587  |\n",
      "|main-vklad           |518  |\n",
      "|main-rabota-archive  |170  |\n",
      "|main-archive-rabota  |167  |\n",
      "|main-bonus-archive   |143  |\n",
      "|main-rabota-bonus    |139  |\n",
      "|main-bonus-rabota    |135  |\n",
      "|main-news-rabota     |135  |\n",
      "|main-archive-internet|132  |\n",
      "|main-rabota-news     |130  |\n",
      "|main-internet-rabota |129  |\n",
      "|main-archive-news    |126  |\n",
      "|main-rabota-internet |124  |\n",
      "|main-internet-archive|122  |\n",
      "|main-archive-bonus   |117  |\n",
      "|main-internet-bonus  |115  |\n",
      "|main-tariffs-internet|114  |\n",
      "|main-news-archive    |113  |\n",
      "|main-news-internet   |109  |\n",
      "|main-archive-tariffs |104  |\n",
      "|main-internet-news   |103  |\n",
      "|main-tariffs-archive |103  |\n",
      "|main-rabota-main     |94   |\n",
      "+---------------------+-----+\n",
      "\n"
     ]
    },
    {
     "name": "stderr",
     "output_type": "stream",
     "text": [
      "                                                                                \r"
     ]
    }
   ],
   "source": [
    "# SQL query\n",
    "query = \"\"\"\n",
    "    WITH min_timestamps AS (\n",
    "        SELECT\n",
    "            user_id, session_id, MIN(CAST(timestamp AS INT)) AS min_ts\n",
    "        FROM clickstream\n",
    "        WHERE event_type LIKE \"%error%\"\n",
    "        GROUP BY user_id, session_id\n",
    "    ),\n",
    "    filtered AS (\n",
    "        SELECT c.user_id, c.session_id, event_page, timestamp\n",
    "        FROM clickstream c\n",
    "        LEFT JOIN min_timestamps t\n",
    "        ON c.user_id = t.user_id AND c.session_id = t.session_id\n",
    "        WHERE event_type = \"page\" AND (min_ts IS NULL OR timestamp < min_ts)\n",
    "    ),\n",
    "    windowed AS (\n",
    "        SELECT\n",
    "            user_id,\n",
    "            session_id,\n",
    "            event_page,\n",
    "            timestamp,\n",
    "            LAG(event_page) OVER (\n",
    "              PARTITION BY user_id, session_id\n",
    "              ORDER BY timestamp\n",
    "            ) AS prev_event_page\n",
    "        FROM filtered\n",
    "    ),\n",
    "    routes AS (\n",
    "        SELECT\n",
    "            user_id,\n",
    "            session_id,\n",
    "            CONCAT_WS('-', COLLECT_LIST(event_page)) AS route\n",
    "        FROM windowed\n",
    "        WHERE prev_event_page IS NULL OR event_page != prev_event_page\n",
    "        GROUP BY user_id, session_id\n",
    "    )\n",
    "    SELECT\n",
    "        route,\n",
    "        COUNT(*) as count\n",
    "    FROM (SELECT DISTINCT * FROM routes)\n",
    "    GROUP BY route\n",
    "    ORDER BY count DESC\n",
    "    LIMIT 30\n",
    "\"\"\"\n",
    "\n",
    "# Show top 30 routes\n",
    "top_30_routes = se.sql(query)\n",
    "top_30_routes.show(30, truncate=False)"
   ]
  },
  {
   "cell_type": "code",
   "execution_count": null,
   "metadata": {},
   "outputs": [],
   "source": []
  },
  {
   "cell_type": "markdown",
   "metadata": {},
   "source": [
    "## Spark RDD solution"
   ]
  },
  {
   "cell_type": "code",
   "execution_count": 4,
   "metadata": {
    "tags": []
   },
   "outputs": [
    {
     "name": "stderr",
     "output_type": "stream",
     "text": [
      "                                                                                \r"
     ]
    },
    {
     "data": {
      "text/plain": [
       "[('main', 8184),\n",
       " ('main-archive', 1113),\n",
       " ('main-rabota', 1047),\n",
       " ('main-internet', 897),\n",
       " ('main-bonus', 870),\n",
       " ('main-news', 769),\n",
       " ('main-tariffs', 677),\n",
       " ('main-online', 587),\n",
       " ('main-vklad', 518),\n",
       " ('main-rabota-archive', 170),\n",
       " ('main-archive-rabota', 167),\n",
       " ('main-bonus-archive', 143),\n",
       " ('main-rabota-bonus', 139),\n",
       " ('main-news-rabota', 135),\n",
       " ('main-bonus-rabota', 135),\n",
       " ('main-archive-internet', 132),\n",
       " ('main-rabota-news', 130),\n",
       " ('main-internet-rabota', 129),\n",
       " ('main-archive-news', 126),\n",
       " ('main-rabota-internet', 124),\n",
       " ('main-internet-archive', 123),\n",
       " ('main-archive-bonus', 117),\n",
       " ('main-internet-bonus', 115),\n",
       " ('main-tariffs-internet', 114),\n",
       " ('main-news-archive', 113),\n",
       " ('main-news-internet', 109),\n",
       " ('main-archive-tariffs', 104),\n",
       " ('main-internet-news', 103),\n",
       " ('main-tariffs-archive', 103),\n",
       " ('main-rabota-main', 94)]"
      ]
     },
     "execution_count": 4,
     "metadata": {},
     "output_type": "execute_result"
    }
   ],
   "source": [
    "rdd = df.rdd\n",
    "\n",
    "# Groupes consecutive duplicates\n",
    "def windowed(obj):\n",
    "    sorted_pages = sorted(obj[1], key=lambda row: row[1])\n",
    "    sorted_pages = map(lambda row: row[0], sorted_pages)\n",
    "    return (obj[0], [key for key, _ in groupby(sorted_pages)])\n",
    "\n",
    "# Get timestamps of error sessions\n",
    "min_timestamps = rdd.filter(lambda row: 'error' in row.event_type)\\\n",
    "                    .map(lambda row: ((row.user_id, row.session_id), row.timestamp))\\\n",
    "                    .reduceByKey(min)\n",
    "\n",
    "# Get filtered sessions\n",
    "filtered = rdd.filter(lambda row: row.event_type == 'page')\\\n",
    "              .map(lambda row: ((row.user_id, row.session_id), (row.event_page, row.timestamp)))\\\n",
    "              .leftOuterJoin(min_timestamps)\\\n",
    "              .filter(lambda row: row[1][1] is None or (row[1][0][1] < row[1][1]))\\\n",
    "              .map(lambda row: (row[0], row[1][0]))\\\n",
    "              .filter(lambda row: row[1][1] is not None)\n",
    "\n",
    "# Get distinct routes\n",
    "routes = filtered.groupByKey()\\\n",
    "                 .map(windowed)\\\n",
    "                 .map(lambda row: (row[0], '-'.join(list(row[1]))))\n",
    "route_distinct = routes.map(lambda row: (row[1], 1)).reduceByKey(lambda a, b: a + b)\n",
    "\n",
    "# Get top 30 routes\n",
    "top_30_routes = route_distinct.takeOrdered(30, key=lambda row: -row[1])\n",
    "top_30_routes"
   ]
  },
  {
   "cell_type": "code",
   "execution_count": null,
   "metadata": {
    "tags": []
   },
   "outputs": [],
   "source": []
  },
  {
   "cell_type": "markdown",
   "metadata": {},
   "source": [
    "## Spark DF solution"
   ]
  },
  {
   "cell_type": "code",
   "execution_count": 5,
   "metadata": {
    "tags": []
   },
   "outputs": [
    {
     "name": "stderr",
     "output_type": "stream",
     "text": [
      "                                                                                \r"
     ]
    },
    {
     "data": {
      "text/plain": [
       "{'main': 8184,\n",
       " 'main-archive': 1113,\n",
       " 'main-rabota': 1047,\n",
       " 'main-internet': 897,\n",
       " 'main-bonus': 870,\n",
       " 'main-news': 769,\n",
       " 'main-tariffs': 677,\n",
       " 'main-online': 587,\n",
       " 'main-vklad': 518,\n",
       " 'main-rabota-archive': 170,\n",
       " 'main-archive-rabota': 167,\n",
       " 'main-bonus-archive': 143,\n",
       " 'main-rabota-bonus': 139,\n",
       " 'main-news-rabota': 135,\n",
       " 'main-bonus-rabota': 135,\n",
       " 'main-archive-internet': 132,\n",
       " 'main-rabota-news': 130,\n",
       " 'main-internet-rabota': 129,\n",
       " 'main-archive-news': 126,\n",
       " 'main-rabota-internet': 124,\n",
       " 'main-internet-archive': 122,\n",
       " 'main-archive-bonus': 117,\n",
       " 'main-internet-bonus': 115,\n",
       " 'main-tariffs-internet': 114,\n",
       " 'main-news-archive': 113,\n",
       " 'main-news-internet': 109,\n",
       " 'main-archive-tariffs': 104,\n",
       " 'main-internet-news': 103,\n",
       " 'main-tariffs-archive': 103,\n",
       " 'main-rabota-main': 94}"
      ]
     },
     "execution_count": 5,
     "metadata": {},
     "output_type": "execute_result"
    }
   ],
   "source": [
    "# Get timestamps of error sessions\n",
    "min_timestamps = df.select('user_id', 'session_id', 'timestamp')\\\n",
    "                   .filter(df.event_type.like('%error%'))\\\n",
    "                   .groupBy('user_id', 'session_id')\\\n",
    "                   .agg(F.min('timestamp').alias('min_ts'))\n",
    "\n",
    "# Get filtered sessions\n",
    "filtered = df.join(min_timestamps, ['user_id', 'session_id'], 'left')\\\n",
    "             .filter((min_timestamps.min_ts.isNull()) | (df.timestamp < min_timestamps.min_ts))\\\n",
    "             .filter(df.event_type == 'page')\\\n",
    "             .select('user_id', 'session_id', 'timestamp', 'event_page')\n",
    "\n",
    "# Groupes consecutive duplicates\n",
    "windowed = filtered.withColumn('prev_event_page',\n",
    "                              F.lag('event_page', 1).over(Window.partitionBy('user_id', 'session_id').orderBy('timestamp')))\\\n",
    "                   .filter((F.col('prev_event_page').isNull()) | (F.col('event_page') != F.col('prev_event_page')))\n",
    "\n",
    "# Get distinct routes\n",
    "routes = windowed.groupBy('user_id', 'session_id')\\\n",
    "                 .agg(F.collect_list(df.event_page).alias('pages'))\\\n",
    "                 .groupBy('user_id', 'session_id', 'pages')\\\n",
    "                 .agg(F.array_join('pages', '-').alias('route'))\\\n",
    "                 .select('route')\n",
    "route_distinct = routes.groupBy('route')\\\n",
    "                       .agg(F.count('*').alias('count'))\\\n",
    "                       .orderBy(F.desc('count'))\n",
    "\n",
    "# Get top 30 routes\n",
    "top_30_routes = route_distinct.limit(30).collect()\n",
    "top_30_routes = {k: v for k,v in top_30_routes}\n",
    "top_30_routes"
   ]
  },
  {
   "cell_type": "code",
   "execution_count": null,
   "metadata": {
    "tags": []
   },
   "outputs": [],
   "source": []
  },
  {
   "cell_type": "markdown",
   "metadata": {},
   "source": [
    "### Save and Submit result"
   ]
  },
  {
   "cell_type": "code",
   "execution_count": 6,
   "metadata": {
    "tags": []
   },
   "outputs": [],
   "source": [
    "with open('result.json', 'w') as f:\n",
    "    top_10_routes = dict(list(top_30_routes.items())[:10])\n",
    "    f.write(json.dumps(top_10_routes))"
   ]
  },
  {
   "cell_type": "code",
   "execution_count": null,
   "metadata": {},
   "outputs": [],
   "source": [
    "!curl -F file=@result.json 51.250.120.121:80/MDS-LSML1/apoletaev/w6/2"
   ]
  },
  {
   "cell_type": "code",
   "execution_count": 9,
   "metadata": {},
   "outputs": [],
   "source": [
    "sc.stop()"
   ]
  },
  {
   "cell_type": "code",
   "execution_count": null,
   "metadata": {},
   "outputs": [],
   "source": []
  }
 ],
 "metadata": {
  "coursera": {
   "schema_names": [
    "week-4-spark-homework"
   ]
  },
  "kernelspec": {
   "display_name": "Python 3 (ipykernel)",
   "language": "python",
   "name": "python3"
  },
  "language_info": {
   "codemirror_mode": {
    "name": "ipython",
    "version": 3
   },
   "file_extension": ".py",
   "mimetype": "text/x-python",
   "name": "python",
   "nbconvert_exporter": "python",
   "pygments_lexer": "ipython3",
   "version": "3.10.9"
  },
  "vscode": {
   "interpreter": {
    "hash": "31f2aee4e71d21fbe5cf8b01ff0e069b9275f58929596ceb00d14d90e3e16cd6"
   }
  }
 },
 "nbformat": 4,
 "nbformat_minor": 4
}
